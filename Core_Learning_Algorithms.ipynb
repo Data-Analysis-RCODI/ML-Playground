{
  "nbformat": 4,
  "nbformat_minor": 0,
  "metadata": {
    "colab": {
      "name": "Core-Learning-Algorithms.ipynb",
      "provenance": [],
      "authorship_tag": "ABX9TyPDx7xVQs4i8mwl1Lq0HaoK",
      "include_colab_link": true
    },
    "kernelspec": {
      "name": "python3",
      "display_name": "Python 3"
    }
  },
  "cells": [
    {
      "cell_type": "markdown",
      "metadata": {
        "id": "view-in-github",
        "colab_type": "text"
      },
      "source": [
        "<a href=\"https://colab.research.google.com/github/Data-Analysis-RCODI/ML-Playground/blob/master/Core_Learning_Algorithms.ipynb\" target=\"_parent\"><img src=\"https://colab.research.google.com/assets/colab-badge.svg\" alt=\"Open In Colab\"/></a>"
      ]
    },
    {
      "cell_type": "markdown",
      "metadata": {
        "id": "pKke82ry4Dxi",
        "colab_type": "text"
      },
      "source": [
        "**Core Learning Algorithms**\n",
        "\n",
        "*   Linear Regression \n",
        "*   Classification\n",
        "*   Clustering\n",
        "*   Hidden Markov Model \n",
        "\n",
        "**What is Linear Regression**\n",
        "\n",
        "Given x values, we want the y values. \n",
        "We draw lines of best fit through the data points\n",
        "Predict future values in our datasets \n",
        "\n",
        "y = mx + b \n",
        "\n",
        "Use this line of best fit to predict new data points. Look at all these data points and create lines of best fit \n",
        "\n"
      ]
    },
    {
      "cell_type": "code",
      "metadata": {
        "id": "gZy6AlK74Dhs",
        "colab_type": "code",
        "colab": {
          "base_uri": "https://localhost:8080/",
          "height": 54
        },
        "outputId": "d013965c-4576-4537-dc4a-2776163497b5"
      },
      "source": [
        "!pip install -q sklearn"
      ],
      "execution_count": 8,
      "outputs": [
        {
          "output_type": "stream",
          "text": [
            "ERROR! Session/line number was not unique in database. History logging moved to new session 59\n"
          ],
          "name": "stdout"
        }
      ]
    },
    {
      "cell_type": "code",
      "metadata": {
        "id": "7X0F1JIH6fXq",
        "colab_type": "code",
        "colab": {}
      },
      "source": [
        "%tensorflow_version 2.x"
      ],
      "execution_count": 0,
      "outputs": []
    },
    {
      "cell_type": "code",
      "metadata": {
        "id": "U9qRk88K6o7S",
        "colab_type": "code",
        "colab": {}
      },
      "source": [
        "from __future__ import absolute_import, division, print_function, unicode_literals \n",
        "import numpy as np\n",
        "import pandas as pd \n",
        "import matplotlib.pyplot as plt\n",
        "from IPython.display import clear_output\n",
        "from six.moves import urllib\n",
        "\n",
        "import tensorflow as tf"
      ],
      "execution_count": 0,
      "outputs": []
    },
    {
      "cell_type": "markdown",
      "metadata": {
        "id": "UVVe-H-fPxqh",
        "colab_type": "text"
      },
      "source": [
        "pd means load into data frame"
      ]
    },
    {
      "cell_type": "code",
      "metadata": {
        "id": "TpiIQk8rON-H",
        "colab_type": "code",
        "colab": {
          "base_uri": "https://localhost:8080/",
          "height": 153
        },
        "outputId": "3a1d5957-ea09-4103-d1c3-ce55514bc445"
      },
      "source": [
        "# Load dataset \n",
        "\n",
        "dftrain = pd.read_csv('https://storage.googleapis.com/tf-datasets/titanic/train.csv') #training data \n",
        "dfeval = pd.read_csv('https://storage.googleapis.com/tf-datasets/titanic/eval.csv') # testing data\n",
        "print(dftrain.head())\n",
        "y_train = dftrain.pop('survived')\n",
        "y_eval = dfeval.pop('survived')"
      ],
      "execution_count": 20,
      "outputs": [
        {
          "output_type": "stream",
          "text": [
            "   survived     sex   age  ...     deck  embark_town  alone\n",
            "0         0    male  22.0  ...  unknown  Southampton      n\n",
            "1         1  female  38.0  ...        C    Cherbourg      n\n",
            "2         1  female  26.0  ...  unknown  Southampton      y\n",
            "3         1  female  35.0  ...        C  Southampton      n\n",
            "4         0    male  28.0  ...  unknown   Queenstown      y\n",
            "\n",
            "[5 rows x 10 columns]\n"
          ],
          "name": "stdout"
        }
      ]
    },
    {
      "cell_type": "markdown",
      "metadata": {
        "id": "DFz1CkPf6orT",
        "colab_type": "text"
      },
      "source": [
        ""
      ]
    }
  ]
}