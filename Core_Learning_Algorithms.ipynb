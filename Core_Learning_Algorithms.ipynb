{
  "nbformat": 4,
  "nbformat_minor": 0,
  "metadata": {
    "colab": {
      "name": "Core-Learning-Algorithms.ipynb",
      "provenance": [],
      "authorship_tag": "ABX9TyMfWWbgzNkBDFJgYUqLI/3q",
      "include_colab_link": true
    },
    "kernelspec": {
      "name": "python3",
      "display_name": "Python 3"
    }
  },
  "cells": [
    {
      "cell_type": "markdown",
      "metadata": {
        "id": "view-in-github",
        "colab_type": "text"
      },
      "source": [
        "<a href=\"https://colab.research.google.com/github/Data-Analysis-RCODI/ML-Playground/blob/master/Core_Learning_Algorithms.ipynb\" target=\"_parent\"><img src=\"https://colab.research.google.com/assets/colab-badge.svg\" alt=\"Open In Colab\"/></a>"
      ]
    },
    {
      "cell_type": "markdown",
      "metadata": {
        "id": "pKke82ry4Dxi",
        "colab_type": "text"
      },
      "source": [
        "**Core Learning Algorithms**\n",
        "\n",
        "*   Linear Regression \n",
        "*   Classification\n",
        "*   Clustering\n",
        "*   Hidden Markov Model \n",
        "\n",
        "**What is Linear Regression**\n",
        "\n",
        "Given x values, we want the y values. \n",
        "We draw lines of best fit through the data points\n",
        "Predict future values in our datasets \n",
        "\n",
        "y = mx + b \n",
        "\n",
        "Use this line of best fit to predict new data points. Look at all these data points and create lines of best fit \n",
        "\n"
      ]
    },
    {
      "cell_type": "code",
      "metadata": {
        "id": "gZy6AlK74Dhs",
        "colab_type": "code",
        "colab": {}
      },
      "source": [
        "!pip install -q sklearn"
      ],
      "execution_count": 0,
      "outputs": []
    },
    {
      "cell_type": "code",
      "metadata": {
        "id": "7X0F1JIH6fXq",
        "colab_type": "code",
        "colab": {}
      },
      "source": [
        "%tensorflow_version 2.x"
      ],
      "execution_count": 0,
      "outputs": []
    },
    {
      "cell_type": "code",
      "metadata": {
        "id": "U9qRk88K6o7S",
        "colab_type": "code",
        "colab": {}
      },
      "source": [
        "from _future_import absolute_import, division, print_function, unicode_literals \n",
        "import numpy as np\n",
        "import pandas as pd \n",
        "import matplotlib.pyplot as plt\n",
        "from IPython.display import clear_output\n",
        "from six.moves import urllib\n",
        "\n",
        "import tensorfl;ow"
      ],
      "execution_count": 0,
      "outputs": []
    },
    {
      "cell_type": "markdown",
      "metadata": {
        "id": "DFz1CkPf6orT",
        "colab_type": "text"
      },
      "source": [
        ""
      ]
    }
  ]
}