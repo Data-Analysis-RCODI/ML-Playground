{
  "nbformat": 4,
  "nbformat_minor": 0,
  "metadata": {
    "colab": {
      "name": "Stats_Part2.ipynb",
      "provenance": [],
      "authorship_tag": "ABX9TyOnApozMgACjjbYbFf7yBBK",
      "include_colab_link": true
    },
    "kernelspec": {
      "name": "python3",
      "display_name": "Python 3"
    }
  },
  "cells": [
    {
      "cell_type": "markdown",
      "metadata": {
        "id": "view-in-github",
        "colab_type": "text"
      },
      "source": [
        "<a href=\"https://colab.research.google.com/github/Data-Analysis-RCODI/ML-Playground/blob/master/Stats_Part2.ipynb\" target=\"_parent\"><img src=\"https://colab.research.google.com/assets/colab-badge.svg\" alt=\"Open In Colab\"/></a>"
      ]
    },
    {
      "cell_type": "code",
      "metadata": {
        "id": "WsxTukaOD469",
        "colab_type": "code",
        "colab": {}
      },
      "source": [
        "import numpy as np \n"
      ],
      "execution_count": 0,
      "outputs": []
    },
    {
      "cell_type": "code",
      "metadata": {
        "id": "B0QpKAojD-jK",
        "colab_type": "code",
        "colab": {
          "base_uri": "https://localhost:8080/",
          "height": 51
        },
        "outputId": "ec6be944-2122-4068-d0d6-b9d4cd025cc1"
      },
      "source": [
        "#Goals in five matches \n",
        "\n",
        "goals_croatia = np.array([0, 2, 2, 0, 2])\n",
        "goals_france = np.array([1, 0, 1, 1, 0])\n",
        "\n",
        "c = np.var(goals_croatia)\n",
        "print(c) \n",
        "\n",
        "f = np.var(goals_france)\n",
        "print(f)\n",
        "\n"
      ],
      "execution_count": 5,
      "outputs": [
        {
          "output_type": "stream",
          "text": [
            "0.9600000000000002\n",
            "0.24000000000000005\n"
          ],
          "name": "stdout"
        }
      ]
    },
    {
      "cell_type": "code",
      "metadata": {
        "id": "O-VUubNpE9qE",
        "colab_type": "code",
        "colab": {
          "base_uri": "https://localhost:8080/",
          "height": 34
        },
        "outputId": "28e5c356-b339-44e2-bd78-de309a2f740e"
      },
      "source": [
        "import statistics \n",
        "\n",
        "example_list = [4, 6, 2, 6, 7, 8, 2, 5, 6, 8, 4, 6, 7, 2, 2]\n",
        "\n",
        "x = statistics.stdev(example_list)\n",
        "\n",
        "print(x)"
      ],
      "execution_count": 10,
      "outputs": [
        {
          "output_type": "stream",
          "text": [
            "2.2038926600773587\n"
          ],
          "name": "stdout"
        }
      ]
    },
    {
      "cell_type": "code",
      "metadata": {
        "id": "rn9eOdGNGMGO",
        "colab_type": "code",
        "colab": {
          "base_uri": "https://localhost:8080/",
          "height": 34
        },
        "outputId": "4cffed8a-14a0-400a-bd1f-7492017617a9"
      },
      "source": [
        "# python code to calculate expected  \n",
        "# value of an array \n",
        "  \n",
        "# Function to calculate expectation \n",
        "def calc_Expectation(a, n): \n",
        "      \n",
        "    # variable prb is for probability  \n",
        "    # of each element which is same for \n",
        "    # each element  \n",
        "    prb = 1 / n \n",
        "      \n",
        "    # calculating expectation overall \n",
        "    sum = 0\n",
        "    for i in range(0, n): \n",
        "        sum += (a[i] * prb)  \n",
        "          \n",
        "    # returning expectation as sum \n",
        "    return float(sum) \n",
        "  \n",
        "  \n",
        "# Driver program \n",
        "n = 6; \n",
        "a = [ 1.0, 2.0, 3.0,4.0, 5.0, 6.0 ] \n",
        "  \n",
        "# Function for calculating expectation \n",
        "expect = calc_Expectation(a, n) \n",
        "  \n",
        "# Display expectation of given array \n",
        "print( \"Expectation of array E(X) is : \", \n",
        "                                 expect ) "
      ],
      "execution_count": 11,
      "outputs": [
        {
          "output_type": "stream",
          "text": [
            "Expectation of array E(X) is :  3.5\n"
          ],
          "name": "stdout"
        }
      ]
    }
  ]
}