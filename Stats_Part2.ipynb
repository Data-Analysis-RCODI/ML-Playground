{
  "nbformat": 4,
  "nbformat_minor": 0,
  "metadata": {
    "colab": {
      "name": "Stats_part2.ipynb",
      "provenance": [],
      "authorship_tag": "ABX9TyMHfqTyUfA6ao8y1uI/r0Jp",
      "include_colab_link": true
    },
    "kernelspec": {
      "name": "python3",
      "display_name": "Python 3"
    }
  },
  "cells": [
    {
      "cell_type": "markdown",
      "metadata": {
        "id": "view-in-github",
        "colab_type": "text"
      },
      "source": [
        "<a href=\"https://colab.research.google.com/github/Data-Analysis-RCODI/ML-Playground/blob/master/Stats_Part2.ipynb\" target=\"_parent\"><img src=\"https://colab.research.google.com/assets/colab-badge.svg\" alt=\"Open In Colab\"/></a>"
      ]
    },
    {
      "cell_type": "code",
      "metadata": {
        "id": "WsxTukaOD469",
        "colab_type": "code",
        "colab": {}
      },
      "source": [
        "import numpy as np \n"
      ],
      "execution_count": 0,
      "outputs": []
    },
    {
      "cell_type": "code",
      "metadata": {
        "id": "B0QpKAojD-jK",
        "colab_type": "code",
        "colab": {
          "base_uri": "https://localhost:8080/",
          "height": 51
        },
        "outputId": "ec6be944-2122-4068-d0d6-b9d4cd025cc1"
      },
      "source": [
        "#Goals in five matches \n",
        "\n",
        "goals_croatia = np.array([0, 2, 2, 0, 2])\n",
        "goals_france = np.array([1, 0, 1, 1, 0])\n",
        "\n",
        "c = np.var(goals_croatia)\n",
        "print(c) \n",
        "\n",
        "f = np.var(goals_france)\n",
        "print(f)\n",
        "\n"
      ],
      "execution_count": 5,
      "outputs": [
        {
          "output_type": "stream",
          "text": [
            "0.9600000000000002\n",
            "0.24000000000000005\n"
          ],
          "name": "stdout"
        }
      ]
    }
  ]
}