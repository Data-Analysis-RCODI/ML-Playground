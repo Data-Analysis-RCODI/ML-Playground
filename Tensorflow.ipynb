{
  "nbformat": 4,
  "nbformat_minor": 0,
  "metadata": {
    "colab": {
      "name": "Tensorflow.ipynb",
      "provenance": [],
      "collapsed_sections": [],
      "authorship_tag": "ABX9TyNDLuqio2bDWgqfyWSwDX/f",
      "include_colab_link": true
    },
    "kernelspec": {
      "name": "python3",
      "display_name": "Python 3"
    }
  },
  "cells": [
    {
      "cell_type": "markdown",
      "metadata": {
        "id": "view-in-github",
        "colab_type": "text"
      },
      "source": [
        "<a href=\"https://colab.research.google.com/github/Data-Analysis-RCODI/ML-Playground/blob/master/Tensorflow.ipynb\" target=\"_parent\"><img src=\"https://colab.research.google.com/assets/colab-badge.svg\" alt=\"Open In Colab\"/></a>"
      ]
    },
    {
      "cell_type": "markdown",
      "metadata": {
        "id": "unSyY-NxGPEo",
        "colab_type": "text"
      },
      "source": [
        "I'm experimenting with the version 2 of Tensorflow here. \n"
      ]
    },
    {
      "cell_type": "code",
      "metadata": {
        "id": "0vxm0onhE7gP",
        "colab_type": "code",
        "outputId": "6a3c23f6-a3fa-493a-9c88-3ea6fb5de900",
        "colab": {
          "base_uri": "https://localhost:8080/",
          "height": 54
        }
      },
      "source": [
        "%tensorflow_version 2.x\n",
        "import tensorflow as tf\n",
        "print(tf.version)"
      ],
      "execution_count": 0,
      "outputs": [
        {
          "output_type": "stream",
          "text": [
            "<module 'tensorflow._api.v2.version' from '/usr/local/lib/python3.6/dist-packages/tensorflow/_api/v2/version/__init__.py'>\n"
          ],
          "name": "stdout"
        }
      ]
    },
    {
      "cell_type": "markdown",
      "metadata": {
        "id": "VnQAdSvwFxiZ",
        "colab_type": "text"
      },
      "source": [
        "Data Types include float32, int32, string and others. We can put in value and data type. \n"
      ]
    },
    {
      "cell_type": "code",
      "metadata": {
        "id": "IgJxJ0ZPFPot",
        "colab_type": "code",
        "colab": {}
      },
      "source": [
        "string = tf.Variable(\"this is a string\", tf.string)\n",
        "number = tf.Variable(324, tf.int16)\n",
        "floating = tf.Variable(3.567, tf.float64)"
      ],
      "execution_count": 0,
      "outputs": []
    },
    {
      "cell_type": "markdown",
      "metadata": {
        "id": "t93U6wmVGhJN",
        "colab_type": "text"
      },
      "source": [
        "**Rank/Degree of Tensors**\n",
        "\n",
        "Another word for rank is degree, these terms simply mean the number of dimensions involved in the tensor. What we created above is a tensor of rank 0, also known as a scalar. "
      ]
    },
    {
      "cell_type": "code",
      "metadata": {
        "id": "nRRqo9lKGg7s",
        "colab_type": "code",
        "colab": {}
      },
      "source": [
        "rank1_tensor = tf.Variable([\"Test\", \"Ok\", \"Tim\"], tf.string)\n",
        "rank2_tensor = tf.Variable([[\"test\", \"ok\"], [\"test\", \"yes\"]], tf.string)"
      ],
      "execution_count": 0,
      "outputs": []
    },
    {
      "cell_type": "markdown",
      "metadata": {
        "id": "J3EhMQ5uKBam",
        "colab_type": "text"
      },
      "source": [
        "To determine the rank of a tensor we can call the following method. I get numpy = 2, which means it is a rank 2 tensor. "
      ]
    },
    {
      "cell_type": "code",
      "metadata": {
        "id": "g6UnGEIXJzBi",
        "colab_type": "code",
        "outputId": "80e6e352-1be0-4adc-929a-2c7113a0d48f",
        "colab": {
          "base_uri": "https://localhost:8080/",
          "height": 34
        }
      },
      "source": [
        "tf.rank(rank2_tensor)"
      ],
      "execution_count": 0,
      "outputs": [
        {
          "output_type": "execute_result",
          "data": {
            "text/plain": [
              "<tf.Tensor: shape=(), dtype=int32, numpy=2>"
            ]
          },
          "metadata": {
            "tags": []
          },
          "execution_count": 8
        }
      ]
    },
    {
      "cell_type": "markdown",
      "metadata": {
        "id": "YlPZ55dlKtC8",
        "colab_type": "text"
      },
      "source": [
        "**Shape of Tensors**\n",
        "\n",
        "The shape of a tensor is simply the amount of elements that exist in each dimension. Tensorflow will try to determine the shape of a tensor but sometimes it can be unknown. "
      ]
    },
    {
      "cell_type": "code",
      "metadata": {
        "id": "ZWbQTZxoKpvt",
        "colab_type": "code",
        "outputId": "80737548-ba49-4a9a-c875-a9eb03932d8e",
        "colab": {
          "base_uri": "https://localhost:8080/",
          "height": 34
        }
      },
      "source": [
        "rank2_tensor.shape"
      ],
      "execution_count": 0,
      "outputs": [
        {
          "output_type": "execute_result",
          "data": {
            "text/plain": [
              "TensorShape([2, 2])"
            ]
          },
          "metadata": {
            "tags": []
          },
          "execution_count": 9
        }
      ]
    },
    {
      "cell_type": "markdown",
      "metadata": {
        "id": "CF1x92AeRN9l",
        "colab_type": "text"
      },
      "source": [
        "**Changing Shape**\n",
        "\n",
        "The number of elements of a tensor is the product of the sizes of all its shapes. There are often many shapes that have the same number of elements, making it convenient to be able to change the shape of a tensor. \n",
        "\n",
        "\n",
        "The example below shows how to change the shape of a tensor. \n"
      ]
    },
    {
      "cell_type": "code",
      "metadata": {
        "id": "ZrBB2ixRGedp",
        "colab_type": "code",
        "outputId": "c3952ebd-c6ba-485b-e715-2f4c9be81017",
        "colab": {
          "base_uri": "https://localhost:8080/",
          "height": 272
        }
      },
      "source": [
        "tensor1 = tf.ones([1, 2, 3]) # tf.ones() create a shape [1, 2, 3] tensor full of ones \n",
        "print(tensor1)\n",
        "tensor2 = tf.reshape(tensor1, [2, 3, 1])   # reshape existing data to shape [2, 3, 1]\n",
        "print(tensor2)\n",
        "tensor3 = tf.reshape(tensor2, [3, -1]) # -1 tells the tensor to calculate the size of the dimension \n",
        "#in that place, this will reshape the tensor to [3, 2]\n",
        "print(tensor3)"
      ],
      "execution_count": 0,
      "outputs": [
        {
          "output_type": "stream",
          "text": [
            "tf.Tensor(\n",
            "[[[1. 1. 1.]\n",
            "  [1. 1. 1.]]], shape=(1, 2, 3), dtype=float32)\n",
            "tf.Tensor(\n",
            "[[[1.]\n",
            "  [1.]\n",
            "  [1.]]\n",
            "\n",
            " [[1.]\n",
            "  [1.]\n",
            "  [1.]]], shape=(2, 3, 1), dtype=float32)\n",
            "tf.Tensor(\n",
            "[[1. 1.]\n",
            " [1. 1.]\n",
            " [1. 1.]], shape=(3, 2), dtype=float32)\n"
          ],
          "name": "stdout"
        }
      ]
    },
    {
      "cell_type": "markdown",
      "metadata": {
        "id": "oa4H6CrY1cJp",
        "colab_type": "text"
      },
      "source": [
        "\n",
        "**Types of Tensor**\n",
        "\n",
        "• Variable\n",
        "• Constant \n",
        "• Placeholder\n",
        "\n",
        "**Ways to Evaluate Tensor is to Create a Session**\n",
        "\n",
        "We use the following default block of code\n",
        "\n",
        "\n"
      ]
    },
    {
      "cell_type": "code",
      "metadata": {
        "id": "SUH9TvEl1Ro1",
        "colab_type": "code",
        "colab": {}
      },
      "source": [
        "with tf. Session() as sess: # creates a session using the default graph\n",
        "  tensor.eval()             # tensor will of course be the name of your tensor "
      ],
      "execution_count": 0,
      "outputs": []
    }
  ]
}