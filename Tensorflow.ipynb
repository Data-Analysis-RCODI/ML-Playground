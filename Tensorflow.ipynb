{
  "nbformat": 4,
  "nbformat_minor": 0,
  "metadata": {
    "colab": {
      "name": "Tensorflow.ipynb",
      "provenance": [],
      "authorship_tag": "ABX9TyN/0u4XjzYtxgA7MdAbAfMO",
      "include_colab_link": true
    },
    "kernelspec": {
      "name": "python3",
      "display_name": "Python 3"
    }
  },
  "cells": [
    {
      "cell_type": "markdown",
      "metadata": {
        "id": "view-in-github",
        "colab_type": "text"
      },
      "source": [
        "<a href=\"https://colab.research.google.com/github/Data-Analysis-RCODI/ML-Playground/blob/master/Tensorflow.ipynb\" target=\"_parent\"><img src=\"https://colab.research.google.com/assets/colab-badge.svg\" alt=\"Open In Colab\"/></a>"
      ]
    },
    {
      "cell_type": "markdown",
      "metadata": {
        "id": "unSyY-NxGPEo",
        "colab_type": "text"
      },
      "source": [
        "I'm experimenting with the version 2 of Tensorflow here. \n"
      ]
    },
    {
      "cell_type": "code",
      "metadata": {
        "id": "0vxm0onhE7gP",
        "colab_type": "code",
        "colab": {}
      },
      "source": [
        "%tensorflow_version 2.x"
      ],
      "execution_count": 0,
      "outputs": []
    },
    {
      "cell_type": "code",
      "metadata": {
        "id": "CSInErL1FIn-",
        "colab_type": "code",
        "colab": {}
      },
      "source": [
        "import tensorflow as tf"
      ],
      "execution_count": 0,
      "outputs": []
    },
    {
      "cell_type": "code",
      "metadata": {
        "id": "HSfAZloPFNID",
        "colab_type": "code",
        "colab": {
          "base_uri": "https://localhost:8080/",
          "height": 54
        },
        "outputId": "5a539b1f-b0c3-47c3-a61c-77752614b9d2"
      },
      "source": [
        "print(tf.version)"
      ],
      "execution_count": 3,
      "outputs": [
        {
          "output_type": "stream",
          "text": [
            "<module 'tensorflow._api.v2.version' from '/usr/local/lib/python3.6/dist-packages/tensorflow/_api/v2/version/__init__.py'>\n"
          ],
          "name": "stdout"
        }
      ]
    },
    {
      "cell_type": "markdown",
      "metadata": {
        "id": "VnQAdSvwFxiZ",
        "colab_type": "text"
      },
      "source": [
        "Data Types include float32, int32, string and others. We can put in value and data type. \n"
      ]
    },
    {
      "cell_type": "code",
      "metadata": {
        "id": "IgJxJ0ZPFPot",
        "colab_type": "code",
        "colab": {}
      },
      "source": [
        "string = tf.Variable(\"this is a string\", tf.string)\n",
        "number = tf.Variable(324, tf.int16)\n",
        "floating = tf.Variable(3.567, tf.float64)"
      ],
      "execution_count": 0,
      "outputs": []
    },
    {
      "cell_type": "markdown",
      "metadata": {
        "id": "t93U6wmVGhJN",
        "colab_type": "text"
      },
      "source": [
        "**Rank/Degree of Tensors**\n",
        "\n",
        "Another word for rank is degree, these terms simply mean the number of dimensions involved in the tensor. What we created above is a tensor of rank 0, also known as a scalar. "
      ]
    },
    {
      "cell_type": "code",
      "metadata": {
        "id": "nRRqo9lKGg7s",
        "colab_type": "code",
        "colab": {}
      },
      "source": [
        "rank1_tensor = tf.Variable([\"Test\", \"Ok\", \"Tim\"], tf.string)\n",
        "rank2_tensor = tf.Variable([[\"test\", \"ok\"], [\"test\", \"yes\"]], tf.string)"
      ],
      "execution_count": 0,
      "outputs": []
    },
    {
      "cell_type": "markdown",
      "metadata": {
        "id": "J3EhMQ5uKBam",
        "colab_type": "text"
      },
      "source": [
        "To determine the rank of a tensor we can call the following method. I get numpy = 2, which means it is a rank 2 tensor. "
      ]
    },
    {
      "cell_type": "code",
      "metadata": {
        "id": "g6UnGEIXJzBi",
        "colab_type": "code",
        "colab": {
          "base_uri": "https://localhost:8080/",
          "height": 34
        },
        "outputId": "80e6e352-1be0-4adc-929a-2c7113a0d48f"
      },
      "source": [
        "tf.rank(rank2_tensor)"
      ],
      "execution_count": 8,
      "outputs": [
        {
          "output_type": "execute_result",
          "data": {
            "text/plain": [
              "<tf.Tensor: shape=(), dtype=int32, numpy=2>"
            ]
          },
          "metadata": {
            "tags": []
          },
          "execution_count": 8
        }
      ]
    },
    {
      "cell_type": "markdown",
      "metadata": {
        "id": "YlPZ55dlKtC8",
        "colab_type": "text"
      },
      "source": [
        "**Shape of Tensors**\n",
        "\n",
        "The shape of a tensor is simply the amount of elements that exist in each dimension. Tensorflow will try to determine the shape of a tensor but sometimes it can be unknown. "
      ]
    },
    {
      "cell_type": "code",
      "metadata": {
        "id": "ZWbQTZxoKpvt",
        "colab_type": "code",
        "colab": {
          "base_uri": "https://localhost:8080/",
          "height": 34
        },
        "outputId": "80737548-ba49-4a9a-c875-a9eb03932d8e"
      },
      "source": [
        "rank2_tensor.shape"
      ],
      "execution_count": 9,
      "outputs": [
        {
          "output_type": "execute_result",
          "data": {
            "text/plain": [
              "TensorShape([2, 2])"
            ]
          },
          "metadata": {
            "tags": []
          },
          "execution_count": 9
        }
      ]
    },
    {
      "cell_type": "markdown",
      "metadata": {
        "id": "CF1x92AeRN9l",
        "colab_type": "text"
      },
      "source": [
        "**Changing Shape**\n",
        "\n",
        "The number of elements of a tensor is the product of the sizes of all its shapes. There are often many shapes that have the same number of elements, making it convenient to be able to change the shape of a tensor. \n",
        "\n",
        "\n",
        "The example below shows how to change the shape of a tensor. \n"
      ]
    },
    {
      "cell_type": "code",
      "metadata": {
        "id": "ZrBB2ixRGedp",
        "colab_type": "code",
        "colab": {}
      },
      "source": [
        ""
      ],
      "execution_count": 0,
      "outputs": []
    }
  ]
}